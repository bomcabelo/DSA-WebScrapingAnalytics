{
 "cells": [
  {
   "cell_type": "markdown",
   "metadata": {},
   "source": [
    "<!-- Projeto Desenvolvido na Data Science Academy - www.datascienceacademy.com.br -->\n",
    "# <font color='blue'>Data Science Academy</font>\n",
    "## <font color='blue'>Web Scraping Analytics</font>\n",
    "### <font color='blue'>Parte 2 - Analytics</font>"
   ]
  },
  {
   "cell_type": "markdown",
   "metadata": {},
   "source": [
    "<!-- Projeto Desenvolvido na Data Science Academy - www.datascienceacademy.com.br -->\n",
    "## Instalando e Carregando Pacotes"
   ]
  },
  {
   "cell_type": "code",
   "execution_count": 1,
   "metadata": {},
   "outputs": [],
   "source": [
    "# Para atualizar um pacote, execute o comando abaixo no terminal ou prompt de comando:\n",
    "# pip install -U nome_pacote\n",
    "\n",
    "# Para instalar a versão exata de um pacote, execute o comando abaixo no terminal ou prompt de comando:\n",
    "# !pip install nome_pacote==versão_desejada\n",
    "\n",
    "# Depois de instalar ou atualizar o pacote, reinicie o jupyter notebook.\n",
    "\n",
    "# Instala o pacote watermark. \n",
    "# Esse pacote é usado para gravar as versões de outros pacotes usados neste jupyter notebook.\n",
    "!pip install -q -U watermark"
   ]
  },
  {
   "cell_type": "code",
   "execution_count": 2,
   "metadata": {},
   "outputs": [],
   "source": [
    "# Imports\n",
    "import pandas as pd \n",
    "import numpy as np "
   ]
  },
  {
   "cell_type": "code",
   "execution_count": 3,
   "metadata": {},
   "outputs": [
    {
     "name": "stdout",
     "output_type": "stream",
     "text": [
      "Author: Data Science Academy\n",
      "\n",
      "pandas: 2.2.2\n",
      "numpy : 1.26.4\n",
      "\n"
     ]
    }
   ],
   "source": [
    "%reload_ext watermark\n",
    "%watermark -a \"Data Science Academy\" --iversions"
   ]
  },
  {
   "cell_type": "markdown",
   "metadata": {},
   "source": [
    "## Carregando os Dados Extraídos via Web Scraping"
   ]
  },
  {
   "cell_type": "code",
   "execution_count": 4,
   "metadata": {},
   "outputs": [],
   "source": [
    "# Carrega o dataset\n",
    "df_dsa = pd.read_csv('dataset.csv')"
   ]
  },
  {
   "cell_type": "code",
   "execution_count": 5,
   "metadata": {},
   "outputs": [
    {
     "data": {
      "text/plain": [
       "(100, 6)"
      ]
     },
     "execution_count": 5,
     "metadata": {},
     "output_type": "execute_result"
    }
   ],
   "source": [
    "# Shape\n",
    "df_dsa.shape"
   ]
  },
  {
   "cell_type": "code",
   "execution_count": 6,
   "metadata": {},
   "outputs": [
    {
     "name": "stdout",
     "output_type": "stream",
     "text": [
      "<class 'pandas.core.frame.DataFrame'>\n",
      "RangeIndex: 100 entries, 0 to 99\n",
      "Data columns (total 6 columns):\n",
      " #   Column          Non-Null Count  Dtype  \n",
      "---  ------          --------------  -----  \n",
      " 0   titulo          100 non-null    object \n",
      " 1   descricao       100 non-null    object \n",
      " 2   ano_lancamento  100 non-null    int64  \n",
      " 3   duracao         100 non-null    object \n",
      " 4   avaliacao       100 non-null    float64\n",
      " 5   votos           100 non-null    object \n",
      "dtypes: float64(1), int64(1), object(4)\n",
      "memory usage: 4.8+ KB\n"
     ]
    }
   ],
   "source": [
    "# Info\n",
    "df_dsa.info()"
   ]
  },
  {
   "cell_type": "code",
   "execution_count": 7,
   "metadata": {},
   "outputs": [
    {
     "data": {
      "text/html": [
       "<div>\n",
       "<style scoped>\n",
       "    .dataframe tbody tr th:only-of-type {\n",
       "        vertical-align: middle;\n",
       "    }\n",
       "\n",
       "    .dataframe tbody tr th {\n",
       "        vertical-align: top;\n",
       "    }\n",
       "\n",
       "    .dataframe thead th {\n",
       "        text-align: right;\n",
       "    }\n",
       "</style>\n",
       "<table border=\"1\" class=\"dataframe\">\n",
       "  <thead>\n",
       "    <tr style=\"text-align: right;\">\n",
       "      <th></th>\n",
       "      <th>titulo</th>\n",
       "      <th>descricao</th>\n",
       "      <th>ano_lancamento</th>\n",
       "      <th>duracao</th>\n",
       "      <th>avaliacao</th>\n",
       "      <th>votos</th>\n",
       "    </tr>\n",
       "  </thead>\n",
       "  <tbody>\n",
       "    <tr>\n",
       "      <th>0</th>\n",
       "      <td>1. The Shawshank Redemption</td>\n",
       "      <td>A banker convicted of uxoricide forms a friend...</td>\n",
       "      <td>1994</td>\n",
       "      <td>2h 22m</td>\n",
       "      <td>9.3</td>\n",
       "      <td>2.9M</td>\n",
       "    </tr>\n",
       "    <tr>\n",
       "      <th>1</th>\n",
       "      <td>2. The Godfather</td>\n",
       "      <td>The aging patriarch of an organized crime dyna...</td>\n",
       "      <td>1972</td>\n",
       "      <td>2h 55m</td>\n",
       "      <td>9.2</td>\n",
       "      <td>2M</td>\n",
       "    </tr>\n",
       "    <tr>\n",
       "      <th>2</th>\n",
       "      <td>3. The Dark Knight</td>\n",
       "      <td>When a menace known as the Joker wreaks havoc ...</td>\n",
       "      <td>2008</td>\n",
       "      <td>2h 32m</td>\n",
       "      <td>9.0</td>\n",
       "      <td>2.9M</td>\n",
       "    </tr>\n",
       "    <tr>\n",
       "      <th>3</th>\n",
       "      <td>4. The Lord of the Rings: The Return of the King</td>\n",
       "      <td>Gandalf and Aragorn lead the World of Men agai...</td>\n",
       "      <td>2003</td>\n",
       "      <td>3h 21m</td>\n",
       "      <td>9.0</td>\n",
       "      <td>2M</td>\n",
       "    </tr>\n",
       "    <tr>\n",
       "      <th>4</th>\n",
       "      <td>5. Schindler's List</td>\n",
       "      <td>In German-occupied Poland during World War II,...</td>\n",
       "      <td>1993</td>\n",
       "      <td>3h 15m</td>\n",
       "      <td>9.0</td>\n",
       "      <td>1.5M</td>\n",
       "    </tr>\n",
       "  </tbody>\n",
       "</table>\n",
       "</div>"
      ],
      "text/plain": [
       "                                             titulo  \\\n",
       "0                       1. The Shawshank Redemption   \n",
       "1                                  2. The Godfather   \n",
       "2                                3. The Dark Knight   \n",
       "3  4. The Lord of the Rings: The Return of the King   \n",
       "4                               5. Schindler's List   \n",
       "\n",
       "                                           descricao  ano_lancamento duracao  \\\n",
       "0  A banker convicted of uxoricide forms a friend...            1994  2h 22m   \n",
       "1  The aging patriarch of an organized crime dyna...            1972  2h 55m   \n",
       "2  When a menace known as the Joker wreaks havoc ...            2008  2h 32m   \n",
       "3  Gandalf and Aragorn lead the World of Men agai...            2003  3h 21m   \n",
       "4  In German-occupied Poland during World War II,...            1993  3h 15m   \n",
       "\n",
       "   avaliacao votos  \n",
       "0        9.3  2.9M  \n",
       "1        9.2    2M  \n",
       "2        9.0  2.9M  \n",
       "3        9.0    2M  \n",
       "4        9.0  1.5M  "
      ]
     },
     "execution_count": 7,
     "metadata": {},
     "output_type": "execute_result"
    }
   ],
   "source": [
    "# Primeiros registros\n",
    "df_dsa.head()"
   ]
  },
  {
   "cell_type": "code",
   "execution_count": 8,
   "metadata": {},
   "outputs": [
    {
     "data": {
      "text/html": [
       "<div>\n",
       "<style scoped>\n",
       "    .dataframe tbody tr th:only-of-type {\n",
       "        vertical-align: middle;\n",
       "    }\n",
       "\n",
       "    .dataframe tbody tr th {\n",
       "        vertical-align: top;\n",
       "    }\n",
       "\n",
       "    .dataframe thead th {\n",
       "        text-align: right;\n",
       "    }\n",
       "</style>\n",
       "<table border=\"1\" class=\"dataframe\">\n",
       "  <thead>\n",
       "    <tr style=\"text-align: right;\">\n",
       "      <th></th>\n",
       "      <th>titulo</th>\n",
       "      <th>descricao</th>\n",
       "      <th>ano_lancamento</th>\n",
       "      <th>duracao</th>\n",
       "      <th>avaliacao</th>\n",
       "      <th>votos</th>\n",
       "    </tr>\n",
       "  </thead>\n",
       "  <tbody>\n",
       "    <tr>\n",
       "      <th>95</th>\n",
       "      <td>96. American Beauty</td>\n",
       "      <td>A sexually frustrated suburban father has a mi...</td>\n",
       "      <td>1999</td>\n",
       "      <td>2h 2m</td>\n",
       "      <td>8.3</td>\n",
       "      <td>1.2M</td>\n",
       "    </tr>\n",
       "    <tr>\n",
       "      <th>96</th>\n",
       "      <td>97. Requiem for a Dream</td>\n",
       "      <td>The drug-induced utopias of four Coney Island ...</td>\n",
       "      <td>2000</td>\n",
       "      <td>1h 42m</td>\n",
       "      <td>8.3</td>\n",
       "      <td>913K</td>\n",
       "    </tr>\n",
       "    <tr>\n",
       "      <th>97</th>\n",
       "      <td>98. Good Will Hunting</td>\n",
       "      <td>Will Hunting, a janitor at MIT, has a gift for...</td>\n",
       "      <td>1997</td>\n",
       "      <td>2h 6m</td>\n",
       "      <td>8.3</td>\n",
       "      <td>1.1M</td>\n",
       "    </tr>\n",
       "    <tr>\n",
       "      <th>98</th>\n",
       "      <td>99. 2001: A Space Odyssey</td>\n",
       "      <td>After uncovering a mysterious artifact buried ...</td>\n",
       "      <td>1968</td>\n",
       "      <td>2h 29m</td>\n",
       "      <td>8.3</td>\n",
       "      <td>731K</td>\n",
       "    </tr>\n",
       "    <tr>\n",
       "      <th>99</th>\n",
       "      <td>100. Scarface</td>\n",
       "      <td>Miami in the 1980s: a determined criminal mind...</td>\n",
       "      <td>1983</td>\n",
       "      <td>2h 50m</td>\n",
       "      <td>8.3</td>\n",
       "      <td>933K</td>\n",
       "    </tr>\n",
       "  </tbody>\n",
       "</table>\n",
       "</div>"
      ],
      "text/plain": [
       "                       titulo  \\\n",
       "95        96. American Beauty   \n",
       "96    97. Requiem for a Dream   \n",
       "97      98. Good Will Hunting   \n",
       "98  99. 2001: A Space Odyssey   \n",
       "99              100. Scarface   \n",
       "\n",
       "                                            descricao  ano_lancamento duracao  \\\n",
       "95  A sexually frustrated suburban father has a mi...            1999   2h 2m   \n",
       "96  The drug-induced utopias of four Coney Island ...            2000  1h 42m   \n",
       "97  Will Hunting, a janitor at MIT, has a gift for...            1997   2h 6m   \n",
       "98  After uncovering a mysterious artifact buried ...            1968  2h 29m   \n",
       "99  Miami in the 1980s: a determined criminal mind...            1983  2h 50m   \n",
       "\n",
       "    avaliacao votos  \n",
       "95        8.3  1.2M  \n",
       "96        8.3  913K  \n",
       "97        8.3  1.1M  \n",
       "98        8.3  731K  \n",
       "99        8.3  933K  "
      ]
     },
     "execution_count": 8,
     "metadata": {},
     "output_type": "execute_result"
    }
   ],
   "source": [
    "df_dsa.tail()"
   ]
  },
  {
   "cell_type": "markdown",
   "metadata": {},
   "source": [
    "## Limpeza dos Dados Para Análise"
   ]
  },
  {
   "cell_type": "code",
   "execution_count": 9,
   "metadata": {},
   "outputs": [
    {
     "data": {
      "text/plain": [
       "0                         1. The Shawshank Redemption\n",
       "1                                    2. The Godfather\n",
       "2                                  3. The Dark Knight\n",
       "3    4. The Lord of the Rings: The Return of the King\n",
       "4                                 5. Schindler's List\n",
       "Name: titulo, dtype: object"
      ]
     },
     "execution_count": 9,
     "metadata": {},
     "output_type": "execute_result"
    }
   ],
   "source": [
    "# Visualiza primeiras linhas de uma das colunas\n",
    "df_dsa['titulo'].head()"
   ]
  },
  {
   "cell_type": "code",
   "execution_count": 10,
   "metadata": {},
   "outputs": [],
   "source": [
    "# Divide a string da coluna 'titulo' em duas partes, separando pelo primeiro espaço\n",
    "novo = df_dsa['titulo'].str.split(\" \", n = 1, expand = True)"
   ]
  },
  {
   "cell_type": "code",
   "execution_count": 11,
   "metadata": {},
   "outputs": [
    {
     "data": {
      "text/html": [
       "<div>\n",
       "<style scoped>\n",
       "    .dataframe tbody tr th:only-of-type {\n",
       "        vertical-align: middle;\n",
       "    }\n",
       "\n",
       "    .dataframe tbody tr th {\n",
       "        vertical-align: top;\n",
       "    }\n",
       "\n",
       "    .dataframe thead th {\n",
       "        text-align: right;\n",
       "    }\n",
       "</style>\n",
       "<table border=\"1\" class=\"dataframe\">\n",
       "  <thead>\n",
       "    <tr style=\"text-align: right;\">\n",
       "      <th></th>\n",
       "      <th>0</th>\n",
       "      <th>1</th>\n",
       "    </tr>\n",
       "  </thead>\n",
       "  <tbody>\n",
       "    <tr>\n",
       "      <th>0</th>\n",
       "      <td>1.</td>\n",
       "      <td>The Shawshank Redemption</td>\n",
       "    </tr>\n",
       "    <tr>\n",
       "      <th>1</th>\n",
       "      <td>2.</td>\n",
       "      <td>The Godfather</td>\n",
       "    </tr>\n",
       "    <tr>\n",
       "      <th>2</th>\n",
       "      <td>3.</td>\n",
       "      <td>The Dark Knight</td>\n",
       "    </tr>\n",
       "    <tr>\n",
       "      <th>3</th>\n",
       "      <td>4.</td>\n",
       "      <td>The Lord of the Rings: The Return of the King</td>\n",
       "    </tr>\n",
       "    <tr>\n",
       "      <th>4</th>\n",
       "      <td>5.</td>\n",
       "      <td>Schindler's List</td>\n",
       "    </tr>\n",
       "  </tbody>\n",
       "</table>\n",
       "</div>"
      ],
      "text/plain": [
       "    0                                              1\n",
       "0  1.                       The Shawshank Redemption\n",
       "1  2.                                  The Godfather\n",
       "2  3.                                The Dark Knight\n",
       "3  4.  The Lord of the Rings: The Return of the King\n",
       "4  5.                               Schindler's List"
      ]
     },
     "execution_count": 11,
     "metadata": {},
     "output_type": "execute_result"
    }
   ],
   "source": [
    "# Visualiza primeiras linhas\n",
    "novo.head()"
   ]
  },
  {
   "cell_type": "code",
   "execution_count": 12,
   "metadata": {},
   "outputs": [],
   "source": [
    "# Adiciona o título extraído de volta ao dataframe\n",
    "df_dsa['titulo'] = novo[1]"
   ]
  },
  {
   "cell_type": "code",
   "execution_count": 13,
   "metadata": {},
   "outputs": [
    {
     "data": {
      "text/plain": [
       "0                         The Shawshank Redemption\n",
       "1                                    The Godfather\n",
       "2                                  The Dark Knight\n",
       "3    The Lord of the Rings: The Return of the King\n",
       "4                                 Schindler's List\n",
       "Name: titulo, dtype: object"
      ]
     },
     "execution_count": 13,
     "metadata": {},
     "output_type": "execute_result"
    }
   ],
   "source": [
    "# Visualiza primeiras linhas\n",
    "df_dsa['titulo'].head()"
   ]
  },
  {
   "cell_type": "code",
   "execution_count": 14,
   "metadata": {},
   "outputs": [
    {
     "data": {
      "text/plain": [
       "Index(['titulo', 'descricao', 'ano_lancamento', 'duracao', 'avaliacao',\n",
       "       'votos'],\n",
       "      dtype='object')"
      ]
     },
     "execution_count": 14,
     "metadata": {},
     "output_type": "execute_result"
    }
   ],
   "source": [
    "# Nomes das colunas\n",
    "df_dsa.columns"
   ]
  },
  {
   "cell_type": "code",
   "execution_count": 15,
   "metadata": {},
   "outputs": [
    {
     "data": {
      "text/plain": [
       "0    2h 22m\n",
       "1    2h 55m\n",
       "2    2h 32m\n",
       "3    3h 21m\n",
       "4    3h 15m\n",
       "Name: duracao, dtype: object"
      ]
     },
     "execution_count": 15,
     "metadata": {},
     "output_type": "execute_result"
    }
   ],
   "source": [
    "# Visualiza primeiras linhas\n",
    "df_dsa['duracao'].head()"
   ]
  },
  {
   "cell_type": "code",
   "execution_count": 16,
   "metadata": {},
   "outputs": [],
   "source": [
    "# Função para converter o tempo no formato 'xh ym' para minutos\n",
    "def dsa_converte_hora(time):\n",
    "    \n",
    "    # Divide a string 'time' em uma lista de partes, separadas por espaços\n",
    "    time = time.split(' ')\n",
    "    \n",
    "    # Extrai a parte da hora (antes do 'h') e converte para um número inteiro\n",
    "    hour = int(time[0].split('h')[0].strip())\n",
    "    \n",
    "    # Verifica se existe uma parte de minutos na lista de tempo\n",
    "    if len(time) == 2:\n",
    "        \n",
    "        # Extrai a parte dos minutos (antes do 'm') e converte para um número inteiro\n",
    "        minute = int(time[1].split('m')[0].strip())\n",
    "        \n",
    "        # Retorna o tempo total em minutos (hora em minutos + minutos)\n",
    "        return hour * 60 + minute\n",
    "    \n",
    "    else:\n",
    "        \n",
    "        # Se não houver minutos, retorna apenas o tempo em horas convertido para minutos\n",
    "        return hour * 60"
   ]
  },
  {
   "cell_type": "code",
   "execution_count": 17,
   "metadata": {},
   "outputs": [],
   "source": [
    "# Aplica a função\n",
    "df_dsa['duracao'] = df_dsa['duracao'].apply(dsa_converte_hora)"
   ]
  },
  {
   "cell_type": "code",
   "execution_count": 18,
   "metadata": {},
   "outputs": [
    {
     "data": {
      "text/plain": [
       "0    142\n",
       "1    175\n",
       "2    152\n",
       "3    201\n",
       "4    195\n",
       "Name: duracao, dtype: int64"
      ]
     },
     "execution_count": 18,
     "metadata": {},
     "output_type": "execute_result"
    }
   ],
   "source": [
    "# Visualiza primeiras linhas\n",
    "df_dsa['duracao'].head()"
   ]
  },
  {
   "cell_type": "code",
   "execution_count": 19,
   "metadata": {},
   "outputs": [
    {
     "data": {
      "text/plain": [
       "Index(['titulo', 'descricao', 'ano_lancamento', 'duracao', 'avaliacao',\n",
       "       'votos'],\n",
       "      dtype='object')"
      ]
     },
     "execution_count": 19,
     "metadata": {},
     "output_type": "execute_result"
    }
   ],
   "source": [
    "# Nomes das colunas\n",
    "df_dsa.columns"
   ]
  },
  {
   "cell_type": "code",
   "execution_count": 20,
   "metadata": {},
   "outputs": [
    {
     "data": {
      "text/plain": [
       "0    2.9M\n",
       "1      2M\n",
       "2    2.9M\n",
       "3      2M\n",
       "4    1.5M\n",
       "Name: votos, dtype: object"
      ]
     },
     "execution_count": 20,
     "metadata": {},
     "output_type": "execute_result"
    }
   ],
   "source": [
    "# Visualiza primeiras linhas\n",
    "df_dsa['votos'].head()"
   ]
  },
  {
   "cell_type": "code",
   "execution_count": 21,
   "metadata": {},
   "outputs": [],
   "source": [
    "# Função para converter a unidade dos votos de milhões (M) ou milhares (K) para um número em milhares\n",
    "def dsa_converte_unidade(votes):\n",
    "    \n",
    "    # Verifica se o número de votos contém a letra 'M' (milhões)\n",
    "    if 'M' in votes:\n",
    "        \n",
    "        # Remove a letra 'M', converte para float e multiplica por 1000 para obter o valor em milhares\n",
    "        return float(votes.replace('M', '')) * 1000\n",
    "    \n",
    "    else:\n",
    "        \n",
    "        # Caso contrário, remove a letra 'K' (milhares) e converte diretamente para float\n",
    "        return float(votes.replace('K', ''))"
   ]
  },
  {
   "cell_type": "code",
   "execution_count": 22,
   "metadata": {},
   "outputs": [],
   "source": [
    "# Aplica a função\n",
    "df_dsa['votos(K)'] = df_dsa['votos'].apply(dsa_converte_unidade)"
   ]
  },
  {
   "cell_type": "code",
   "execution_count": 23,
   "metadata": {},
   "outputs": [],
   "source": [
    "# Não precisamos mais da coluna original\n",
    "df_dsa.drop(columns = ['votos'], inplace = True)"
   ]
  },
  {
   "cell_type": "code",
   "execution_count": 24,
   "metadata": {},
   "outputs": [
    {
     "data": {
      "text/html": [
       "<div>\n",
       "<style scoped>\n",
       "    .dataframe tbody tr th:only-of-type {\n",
       "        vertical-align: middle;\n",
       "    }\n",
       "\n",
       "    .dataframe tbody tr th {\n",
       "        vertical-align: top;\n",
       "    }\n",
       "\n",
       "    .dataframe thead th {\n",
       "        text-align: right;\n",
       "    }\n",
       "</style>\n",
       "<table border=\"1\" class=\"dataframe\">\n",
       "  <thead>\n",
       "    <tr style=\"text-align: right;\">\n",
       "      <th></th>\n",
       "      <th>titulo</th>\n",
       "      <th>descricao</th>\n",
       "      <th>ano_lancamento</th>\n",
       "      <th>duracao</th>\n",
       "      <th>avaliacao</th>\n",
       "      <th>votos(K)</th>\n",
       "    </tr>\n",
       "  </thead>\n",
       "  <tbody>\n",
       "    <tr>\n",
       "      <th>0</th>\n",
       "      <td>The Shawshank Redemption</td>\n",
       "      <td>A banker convicted of uxoricide forms a friend...</td>\n",
       "      <td>1994</td>\n",
       "      <td>142</td>\n",
       "      <td>9.3</td>\n",
       "      <td>2900.0</td>\n",
       "    </tr>\n",
       "    <tr>\n",
       "      <th>1</th>\n",
       "      <td>The Godfather</td>\n",
       "      <td>The aging patriarch of an organized crime dyna...</td>\n",
       "      <td>1972</td>\n",
       "      <td>175</td>\n",
       "      <td>9.2</td>\n",
       "      <td>2000.0</td>\n",
       "    </tr>\n",
       "    <tr>\n",
       "      <th>2</th>\n",
       "      <td>The Dark Knight</td>\n",
       "      <td>When a menace known as the Joker wreaks havoc ...</td>\n",
       "      <td>2008</td>\n",
       "      <td>152</td>\n",
       "      <td>9.0</td>\n",
       "      <td>2900.0</td>\n",
       "    </tr>\n",
       "    <tr>\n",
       "      <th>3</th>\n",
       "      <td>The Lord of the Rings: The Return of the King</td>\n",
       "      <td>Gandalf and Aragorn lead the World of Men agai...</td>\n",
       "      <td>2003</td>\n",
       "      <td>201</td>\n",
       "      <td>9.0</td>\n",
       "      <td>2000.0</td>\n",
       "    </tr>\n",
       "    <tr>\n",
       "      <th>4</th>\n",
       "      <td>Schindler's List</td>\n",
       "      <td>In German-occupied Poland during World War II,...</td>\n",
       "      <td>1993</td>\n",
       "      <td>195</td>\n",
       "      <td>9.0</td>\n",
       "      <td>1500.0</td>\n",
       "    </tr>\n",
       "  </tbody>\n",
       "</table>\n",
       "</div>"
      ],
      "text/plain": [
       "                                          titulo  \\\n",
       "0                       The Shawshank Redemption   \n",
       "1                                  The Godfather   \n",
       "2                                The Dark Knight   \n",
       "3  The Lord of the Rings: The Return of the King   \n",
       "4                               Schindler's List   \n",
       "\n",
       "                                           descricao  ano_lancamento  duracao  \\\n",
       "0  A banker convicted of uxoricide forms a friend...            1994      142   \n",
       "1  The aging patriarch of an organized crime dyna...            1972      175   \n",
       "2  When a menace known as the Joker wreaks havoc ...            2008      152   \n",
       "3  Gandalf and Aragorn lead the World of Men agai...            2003      201   \n",
       "4  In German-occupied Poland during World War II,...            1993      195   \n",
       "\n",
       "   avaliacao  votos(K)  \n",
       "0        9.3    2900.0  \n",
       "1        9.2    2000.0  \n",
       "2        9.0    2900.0  \n",
       "3        9.0    2000.0  \n",
       "4        9.0    1500.0  "
      ]
     },
     "execution_count": 24,
     "metadata": {},
     "output_type": "execute_result"
    }
   ],
   "source": [
    "# Visualiza primeiras linhas\n",
    "df_dsa.head()"
   ]
  },
  {
   "cell_type": "code",
   "execution_count": 25,
   "metadata": {},
   "outputs": [
    {
     "data": {
      "text/plain": [
       "titulo            0\n",
       "descricao         0\n",
       "ano_lancamento    0\n",
       "duracao           0\n",
       "avaliacao         0\n",
       "votos(K)          0\n",
       "dtype: int64"
      ]
     },
     "execution_count": 25,
     "metadata": {},
     "output_type": "execute_result"
    }
   ],
   "source": [
    "# Verifica se há valores ausentes\n",
    "df_dsa.isna().sum()"
   ]
  },
  {
   "cell_type": "code",
   "execution_count": 26,
   "metadata": {},
   "outputs": [
    {
     "data": {
      "text/plain": [
       "0"
      ]
     },
     "execution_count": 26,
     "metadata": {},
     "output_type": "execute_result"
    }
   ],
   "source": [
    "# Verifica se há linhas duplicadas\n",
    "df_dsa.duplicated().sum()"
   ]
  },
  {
   "cell_type": "markdown",
   "metadata": {},
   "source": [
    "## Web Scraping Analytics\n",
    "\n",
    "- 1- Quantos Filmes Foram Lançados a Cada Ano?\n",
    "- 2- Qual Década Teve o Maior Número de Lançamentos de Filmes?\n",
    "- 3- Demonstre com Gráfico de Bolhas a Relação Entre Avaliação e Duração, Com Número de Votos.\n",
    "- 4- Qual a Força da Correlação Entre Duração do Filme e o Número de Votos? \n",
    "- 5- Crie Uma Nuvem de Palavras Mostrando as Palavras Mais Frequentes na Descrição dos Filmes."
   ]
  },
  {
   "cell_type": "code",
   "execution_count": 27,
   "metadata": {},
   "outputs": [
    {
     "name": "stdout",
     "output_type": "stream",
     "text": [
      "Author: Data Science Academy\n",
      "\n"
     ]
    }
   ],
   "source": [
    "%reload_ext watermark\n",
    "%watermark -a \"Data Science Academy\""
   ]
  },
  {
   "cell_type": "markdown",
   "metadata": {},
   "source": [
    "# Fim"
   ]
  }
 ],
 "metadata": {
  "kernelspec": {
   "display_name": "Python 3 (ipykernel)",
   "language": "python",
   "name": "python3"
  },
  "language_info": {
   "codemirror_mode": {
    "name": "ipython",
    "version": 3
   },
   "file_extension": ".py",
   "mimetype": "text/x-python",
   "name": "python",
   "nbconvert_exporter": "python",
   "pygments_lexer": "ipython3",
   "version": "3.11.5"
  }
 },
 "nbformat": 4,
 "nbformat_minor": 2
}
